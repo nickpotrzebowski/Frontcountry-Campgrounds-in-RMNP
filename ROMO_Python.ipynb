{
 "cells": [
  {
   "cell_type": "code",
   "execution_count": 1,
   "id": "67bc744b-f71c-4005-9f02-b6d49706d1dd",
   "metadata": {},
   "outputs": [],
   "source": [
    "import rasterio\n",
    "from rasterio.plot import show\n",
    "from matplotlib import pyplot as plt\n",
    "import numpy as np\n",
    "import geopandas as gpd\n",
    "import pandas as pd\n",
    "import os\n",
    "import fiona\n",
    "import shapely as shpy\n",
    "import scipy\n",
    "from scipy.spatial import distance\n",
    "from scipy.ndimage import distance_transform_edt\n",
    "import scipy.ndimage as ndi\n",
    "from rasterio.mask import mask"
   ]
  },
  {
   "cell_type": "code",
   "execution_count": 2,
   "id": "991bfeb0-f91e-4455-8aa4-7a1f31868a8a",
   "metadata": {},
   "outputs": [],
   "source": [
    "#Setting up rasters.\n",
    "raster_1 = r'rasterdata/ROMO_VegRaster.tif'\n",
    "ROMO_Veg = rasterio.open(raster_1)\n",
    "\n",
    "raster_2 = r'rasterdata/ROMO_RoadsRaster.tif'\n",
    "ROMO_Roads = rasterio.open(raster_2)\n",
    "\n",
    "raster_3 = r'rasterdata/ROMO_RiversRaster.tif'\n",
    "ROMO_Rivers = rasterio.open(raster_3)\n",
    "\n",
    "raster_4 = r'rasterdata/ROMO_DEM.tif'\n",
    "ROMO_DEM = rasterio.open(raster_4)\n",
    "\n",
    "raster_5 = r'rasterdata/ROMO_CampgroundsRaster.tif'\n",
    "ROMO_DevelopedCampgrounds = rasterio.open(raster_5)\n",
    "\n",
    "raster_6 = r'rasterdata/ROMO_Extent.tif'\n",
    "ROMO_Extent = rasterio.open(raster_6)\n",
    "\n",
    "raster_7 = 'rasterdata/Veg1_0.tif'\n",
    "with rasterio.open(raster_7) as src:\n",
    "    Veg1_0 = src.read(1)"
   ]
  },
  {
   "cell_type": "code",
   "execution_count": 3,
   "id": "2306479e-7fab-49f3-9f54-2cb3dcca8338",
   "metadata": {},
   "outputs": [],
   "source": [
    "#Setting up geoprocessing extent.\n",
    "with rasterio.open(raster_6) as src:\n",
    "    width = src.width\n",
    "    height = src.height\n",
    "    extent = (src.bounds.left, src.bounds.bottom, src.bounds.right, src.bounds.top)"
   ]
  },
  {
   "cell_type": "code",
   "execution_count": 37,
   "id": "81fb9018-fb5b-47b8-9c08-ddcb27de15a0",
   "metadata": {},
   "outputs": [],
   "source": [
    "#Vegetation geoprocessing to boolean.- Areas must be in a forested area.\n",
    "#Define reclassification\n",
    "def reclassify_mapunit_name(value):\n",
    "    classes = {\n",
    "        \"'Herbaceous Wetland SubAlpine / Alpine - Alpine Meadow'\": 1,\n",
    "        \"'Herbaceous Upland Alpine Fellfield'\": 1,\n",
    "        \"'Lodgepole Pine - High Elevation > 9500 ft'\": 1,\n",
    "        \"'Rock (Alpine-Upper Subalpine)'\": 0,\n",
    "        \"'Herbaceous Upland Alpine > 9600 ft'\": 1,\n",
    "        \"'Glacier'\": 0,\n",
    "        \"'Talus'\": 0,\n",
    "        \"'SubAlpine Mixed Conifer'\": 1,\n",
    "        \"'Cliff Face - Bare Soil / Rock'\": 0,\n",
    "        \"'Krummholz'\": 1,\n",
    "        \"'Herbaceous Wetland Cross Zone - Wetland'\": 1,\n",
    "        \"'Shrub Upland Alpine'\": 1,\n",
    "        \"'Streams - Rivers'\": 0,\n",
    "        \"'Natural Lakes - Ponds'\": 0,\n",
    "        \"'SubAlpine Limber Pine'\": 1,\n",
    "        \"'Riparian Upper Montane Mixed Conifer > 8500 ft'\": 1,\n",
    "        \"'Rock (Foothill-Lower Subalpine)'\": 0,\n",
    "        \"'Shrub Riparian Cross Zone > 9600 ft'\": 1,\n",
    "        \"'Upper Montane Aspen'\": 1,\n",
    "        \"'Mixed Conifer with Aspen (Lodgepole Pine)'\": 1,\n",
    "        \"'Lodgepole Pine - Low Elevation < 9500 ft'\": 1,\n",
    "        \"'Mixed Conifer with Aspen (Spruce - Fir)'\": 1,\n",
    "        \"'Outwash'\": 0,\n",
    "        \"'Unvegetated Surface'\": 0,\n",
    "        \"'Exposed Soil - Man made'\": 0,\n",
    "        \"'Montane Douglas Fir'\": 1,\n",
    "        \"'Mixed Conifer with Aspen (Douglas-fir)'\": 1,\n",
    "        \"'Shrub Upland Lower Montane - Undifferentiated'\": 1,\n",
    "        \"'Riparian Aspen'\": 1,\n",
    "        \"'Lodgepole Pine - Rock'\": 0,\n",
    "        \"'Shrub Riparian Cross Zone < 9600 ft'\": 1,\n",
    "        \"'Ponderosa Pine Graminoid'\": 1,\n",
    "        \"'Ponderosa Pine Shrubland'\": 1,\n",
    "        \"'Herbaceous Upland Montane  < 9600 ft'\": 1,\n",
    "        \"'Ribbon Forests Islands'\": 1,\n",
    "        \"'Herbaceous Wetland Cross Zone - Marsh'\": 1,\n",
    "        \"'Ponderosa Pine Rockland'\": 1,\n",
    "        \"'Mixed Conifer with Aspen (Ponderosa Pine)'\": 1,\n",
    "        \"'Blue Spruce'\": 1,\n",
    "        \"'Juniper Woodland'\": 1,\n",
    "        \"'Riparian Lower Montane Mixed Conifer < 8500 ft'\": 1,\n",
    "        \"'Disturbance - Dead and Down'\": 0,\n",
    "        \"'Shrub Upland Lower Montane - Bitterbrush'\": 1,\n",
    "        \"'Cottonwood'\": 1,\n",
    "        \"'Reservoirs - Stock tanks'\": 0,                         \n",
    "        \"'Shrub Upland Lower Montane - Big Sagebrush'\": 1\n",
    "    }\n",
    "    return classes.get(value, np.nan)\n",
    "\n",
    "\n",
    "with rasterio.open('rasterdata/ROMO_VegRaster.tif') as src:\n",
    "    \n",
    "    raster_data = src.read(1) \n",
    "\n",
    "    \n",
    "    veg1_0 = np.vectorize(reclassify_mapunit_name)(raster_data)"
   ]
  },
  {
   "cell_type": "code",
   "execution_count": 5,
   "id": "6cdfedb9-66c4-456e-8f50-3ae8927e38ea",
   "metadata": {},
   "outputs": [],
   "source": [
    "#DEM geoprocessing to elevation boolean. -Areas must be below 2700m elevation.\n",
    "# Threshold for elevation\n",
    "threshold = 2700  \n",
    "\n",
    "with rasterio.open('rasterdata/ROMO_DEM.tif') as src:\n",
    "    dem_data = src.read(1)\n",
    "    Elevation1_0 = np.where(dem_data > threshold, 1, 0)"
   ]
  },
  {
   "cell_type": "code",
   "execution_count": 6,
   "id": "617c3148-f48a-4c8e-aef9-6f7d85dbbb78",
   "metadata": {},
   "outputs": [
    {
     "name": "stderr",
     "output_type": "stream",
     "text": [
      "C:\\Users\\potrz\\AppData\\Local\\Temp\\ipykernel_3228\\4109610273.py:10: RuntimeWarning: overflow encountered in multiply\n",
      "  slope_rad = np.arctan(np.sqrt(x*x + y*y))\n"
     ]
    }
   ],
   "source": [
    "#DEM geoprocessing to slope boolean. -Areas must be on a slope of 5 degrees or less.\n",
    "#Using numpy to calculate slope.\n",
    "with rasterio.open('rasterdata/ROMO_DEM.tif') as src:\n",
    "    \n",
    "    dem_data = src.read(1)  \n",
    "    transform = src.transform  \n",
    "\n",
    "\n",
    "    x, y = np.gradient(dem_data, transform[0], transform[4])  \n",
    "    slope_rad = np.arctan(np.sqrt(x*x + y*y))  \n",
    "    ROMO_Slope = np.degrees(slope_rad)  #Converting slope from radians to degrees.\n",
    "\n",
    "#Reclassify Slope\n",
    "Slope1_0 = np.where((ROMO_Slope >= 0) & (ROMO_Slope <= 5), 1, 0)\n",
    "\n"
   ]
  },
  {
   "cell_type": "code",
   "execution_count": 7,
   "id": "43ef9b7b-08d9-423c-ba13-feaea4e2948b",
   "metadata": {},
   "outputs": [],
   "source": [
    "#Roads geoprocessing to boolean. -Areas must be 1000m or closer to the nearest park road.\n",
    "#I could not figure out how to run Euclidean Distance within Python, so I did that step in ArcGIS Pro and imported the output rasters.\n",
    "with rasterio.open('rasterdata/RoadsDist.tif') as src:\n",
    "    \n",
    "    roads_dist_data = src.read(1)  \n",
    "\n",
    "    Roads1_0 = np.where(roads_dist_data <= 1000, 1, 0)\n"
   ]
  },
  {
   "cell_type": "code",
   "execution_count": 11,
   "id": "05460dfe-fe4c-41a7-b167-894e01ba7077",
   "metadata": {},
   "outputs": [],
   "source": [
    "#Rivers geoprocessing to boolean. -Areas must be farther than 50m away from rivers.\n",
    "#I could not figure out how to run Euclidean Distance within Python, so I did that step in ArcGIS Pro and imported the output rasters.\n",
    "with rasterio.open('rasterdata/RiversDist.tif') as src:\n",
    "    \n",
    "    rivers_data = src.read(1) \n",
    "\n",
    "    Rivers1_0 = np.where(rivers_data <= 50, 0, 1)\n"
   ]
  },
  {
   "cell_type": "code",
   "execution_count": 13,
   "id": "199bf8af-3ff9-40fe-bcd0-e730692d6989",
   "metadata": {},
   "outputs": [],
   "source": [
    "#Current campgrounds geoprocessing to boolean. -Areas must be farther than 1000m away from current developed camprgrounds.\n",
    "#I could not figure out how to run Euclidean Distance within Python, so I did that step in ArcGIS Pro and imported the output rasters.\n",
    "with rasterio.open('rasterdata/CampDist.tif') as src:\n",
    "    \n",
    "    campgrounds_data = src.read(1) \n",
    "\n",
    "    Campgrounds1_0 = np.where(campgrounds_data <= 1000, 0, 1)\n"
   ]
  },
  {
   "cell_type": "code",
   "execution_count": 41,
   "id": "468a0137-cd5d-45a5-aed0-5d0590764ecd",
   "metadata": {},
   "outputs": [],
   "source": [
    "#Crop the DEM raster dimensions.\n",
    "target_width = 3568\n",
    "target_height = 4396\n",
    "\n",
    "\n",
    "slope1_00 = Slope1_0[:target_height, :target_width]\n",
    "\n",
    "elevation1_00 = Elevation1_0[:target_height, :target_width]\n",
    "#Raster calculate the 6 boolean rasters.\n",
    "AreaSum = Campgrounds1_0 * Rivers1_0 * Roads1_0 * slope1_00 * elevation1_00 * Veg1_0\n"
   ]
  },
  {
   "cell_type": "code",
   "execution_count": 43,
   "id": "fe773d64-487d-4d11-a6f2-014fe5502a46",
   "metadata": {},
   "outputs": [
    {
     "data": {
      "image/png": "[encoded data removed]",
      "text/plain": [
       "<Figure size 640x480 with 1 Axes>"
      ]
     },
     "metadata": {},
     "output_type": "display_data"
    },
    {
     "data": {
      "text/plain": [
       "<Axes: >"
      ]
     },
     "execution_count": 43,
     "metadata": {},
     "output_type": "execute_result"
    }
   ],
   "source": [
    "show(AreaSum)"
   ]
  },
  {
   "cell_type": "code",
   "execution_count": null,
   "id": "ff8ab2b4-6a5a-446f-8d44-eb023ab8c24c",
   "metadata": {},
   "outputs": [],
   "source": []
  }
 ],
 "metadata": {
  "kernelspec": {
   "display_name": "Python 3 (ipykernel)",
   "language": "python",
   "name": "python3"
  },
  "language_info": {
   "codemirror_mode": {
    "name": "ipython",
    "version": 3
   },
   "file_extension": ".py",
   "mimetype": "text/x-python",
   "name": "python",
   "nbconvert_exporter": "python",
   "pygments_lexer": "ipython3",
   "version": "3.11.5"
  }
 },
 "nbformat": 4,
 "nbformat_minor": 5
}
